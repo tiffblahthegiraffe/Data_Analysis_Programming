{
 "cells": [
  {
   "cell_type": "markdown",
   "metadata": {},
   "source": [
    "<h1>Data Analysis Programming---Assignment 1</h1>\n",
    "\n",
    "Group 3 : Tiffany Sung, Chelsea Matthews, Won Lee"
   ]
  },
  {
   "cell_type": "markdown",
   "metadata": {},
   "source": [
    "## Q1: Rock, Paper, Scissors\n",
    "\n",
    "This is a rock,paper,scissors game which users can interact with computer.\n"
   ]
  },
  {
   "cell_type": "code",
   "execution_count": 1,
   "metadata": {},
   "outputs": [],
   "source": [
    "\"\"\"First, we set a list combine all possible play options\"\"\"\n",
    "hands = [\"Rock\",\"Paper\",\"Scissors\"]"
   ]
  },
  {
   "cell_type": "markdown",
   "metadata": {},
   "source": [
    "This is the functio that detect the wining points of human."
   ]
  },
  {
   "cell_type": "code",
   "execution_count": 7,
   "metadata": {},
   "outputs": [],
   "source": [
    "\"\"\"\n",
    "The function takes in two arguments which will be the play of human and computer.\n",
    "\n",
    "If human picks hand[0] == \"Rock\", and computer pick hand[0] == Rock, it's a draw, human got 0 point.\n",
    "If human picks hand[0] == \"Rock\", and computer pick hand[1] == Paper, human got 0 point.\n",
    "If human picks hand[0] == \"Rock\", and computer pick hand[2] == Scissors, human got 1 point.\n",
    "\"\"\"\n",
    "def win_or_lose(h,c):\n",
    "    points = 0\n",
    "    if h == hands[0]: \n",
    "        if c == hands[0]:\n",
    "            points = 0\n",
    "        elif c == hands[1]:\n",
    "            points = 0\n",
    "        elif c == hands[2]:\n",
    "            points = 1\n",
    "    if h == hands[1]:\n",
    "        if c == hands[0]:\n",
    "            points = 1\n",
    "        elif c == hands[1]:\n",
    "            points = 0\n",
    "        elif c == hands[2]:\n",
    "            points = 0\n",
    "    if h == hands[2]:\n",
    "        if c == hands[0]:\n",
    "            points = 0\n",
    "        elif c == hands[1]:\n",
    "            points = 1\n",
    "        elif c == hands[2]:\n",
    "            points = 0\n",
    "    return points"
   ]
  },
  {
   "cell_type": "markdown",
   "metadata": {},
   "source": [
    "This function is used to predict what human will play by the most frequent options he plays."
   ]
  },
  {
   "cell_type": "code",
   "execution_count": 11,
   "metadata": {},
   "outputs": [],
   "source": [
    "\"\"\"\n",
    "The function will take in a list of all human decisions and count the frequency of all options he plays,\n",
    "then decide which is the most frequent options he plays.\n",
    "\n",
    "For instance, if human play \"Rock\" the most, computer will play \"Paper\" for the next round.\n",
    "\"\"\"        \n",
    "def com_brain(h):\n",
    "    human_brain = max(h, key = h.count)\n",
    "    if human_brain == hands[0]:\n",
    "        return hands[1]\n",
    "    elif human_brain == hands[1]:\n",
    "        return hands[2]\n",
    "    elif human_brain == hands[2]:\n",
    "        return hands[0]\n",
    "\n",
    "    #There's situation where human has played \"Rock\" and \"Paper\" equally often,and Scissors less often,\n",
    "    #in this case we let computer play \"Paper\" instead of \"Rock\".\n",
    "    #Because we want to create a (win,draw) situation for the next  round instead of a (lose,draw)\n",
    "\n",
    "    elif human_brain == hands[0] == hands[1]:\n",
    "        return hands[1]\n",
    "    elif human_brain == hands[0] == hands[2]:\n",
    "        return hands[0]\n",
    "    elif human_brain == hands[1] == hands[2]:\n",
    "        return[2] \n",
    "  "
   ]
  },
  {
   "cell_type": "markdown",
   "metadata": {},
   "source": [
    "The game() function is for running the game."
   ]
  },
  {
   "cell_type": "code",
   "execution_count": 12,
   "metadata": {},
   "outputs": [],
   "source": [
    "import random\n",
    "\n",
    "def game():\n",
    "    \n",
    "    human_decision = [] #creat an empty list to store options of human everytime he plays\n",
    "    computer_decision = []#creat an empty list to store options of computer everytime he plays\n",
    "    game_played = 0\n",
    "    human_win = 0\n",
    "    \n",
    "    while True:\n",
    "    \n",
    "        print \"1. Rock\\n2. Paper\\n3. Scissors\\n4.Quit\"\n",
    "        human = input(\"It's your turn to choose: \") #human should input integar 1~4\n",
    "        \n",
    "        if human_decision == []: #In the first round, human_decision is still an empty list\n",
    "            computer = random.choice(hands) #So computer will just randomly pick one options to play\n",
    "        else:\n",
    "            computer = com_brain(human_decision)\n",
    "    \n",
    "        if human == 1:\n",
    "            human_decision.append(hands[0])\n",
    "            computer_decision.append(computer)\n",
    "            human_win = human_win + win_or_lose(hands[0],computer)\n",
    "            game_played += 1\n",
    "            \n",
    "        elif human == 2:\n",
    "            human_decision.append(hands[1])\n",
    "            computer_decision.append(computer)\n",
    "            human_win = human_win + win_or_lose(hands[1],computer)\n",
    "            game_played += 1\n",
    "            \n",
    "        elif human == 3:\n",
    "            human_decision.append(hands[2])\n",
    "            computer_decision.append(computer)\n",
    "            human_win = human_win + win_or_lose(hands[2],computer)\n",
    "            game_played += 1\n",
    "            \n",
    "        elif human == 4:\n",
    "            print \"You are out of the game!\" #If human inputs 4, then the loop is break.\n",
    "            break\n",
    "        else:\n",
    "            print \"Please re-enter your choice: \" #If human inputs != integar 1~4, or other symbols, it will just continue.\n",
    "            continue \n",
    "    \n",
    "    print \"human:\" , human_decision\n",
    "    print \"computer:\" , computer_decision\n",
    "    print \"human has won:\", human_win\n",
    "    print \"total game played:\", game_played   "
   ]
  },
  {
   "cell_type": "code",
   "execution_count": 6,
   "metadata": {},
   "outputs": [
    {
     "name": "stdout",
     "output_type": "stream",
     "text": [
      "1. Rock\n",
      "2. Paper\n",
      "3. Scissors\n",
      "4.Quit\n",
      "It's your turn to choose: 1\n",
      "1. Rock\n",
      "2. Paper\n",
      "3. Scissors\n",
      "4.Quit\n",
      "It's your turn to choose: 2\n",
      "1. Rock\n",
      "2. Paper\n",
      "3. Scissors\n",
      "4.Quit\n",
      "It's your turn to choose: 3\n",
      "1. Rock\n",
      "2. Paper\n",
      "3. Scissors\n",
      "4.Quit\n",
      "It's your turn to choose: 1\n",
      "1. Rock\n",
      "2. Paper\n",
      "3. Scissors\n",
      "4.Quit\n",
      "It's your turn to choose: 1\n",
      "1. Rock\n",
      "2. Paper\n",
      "3. Scissors\n",
      "4.Quit\n",
      "It's your turn to choose: 1\n",
      "1. Rock\n",
      "2. Paper\n",
      "3. Scissors\n",
      "4.Quit\n",
      "It's your turn to choose: 4\n",
      "You are out of the game!\n",
      "human: ['Rock', 'Paper', 'Scissors', 'Rock', 'Rock', 'Rock']\n",
      "computer: ['Scissors', 'Paper', 'Paper', 'Paper', 'Paper', 'Paper']\n",
      "human has won: 2\n",
      "total game played: 6\n"
     ]
    }
   ],
   "source": [
    "#run the game function\n",
    "game()"
   ]
  },
  {
   "cell_type": "markdown",
   "metadata": {},
   "source": [
    "## Q2: Voters in Florida\n"
   ]
  },
  {
   "cell_type": "code",
   "execution_count": 28,
   "metadata": {},
   "outputs": [
    {
     "name": "stdout",
     "output_type": "stream",
     "text": [
      "<open file 'FloridaVoters.html', mode 'r' at 0x102640270>\n"
     ]
    }
   ],
   "source": [
    "import re\n",
    "fp = open('FloridaVoters.html','r') #reads the HTML file\n",
    "line = fp.readline()\n",
    "final_data = []\n",
    "\n",
    "print "
   ]
  },
  {
   "cell_type": "code",
   "execution_count": 24,
   "metadata": {},
   "outputs": [],
   "source": [
    "\"\"\" \n",
    "This function is used to find instances in the HTML file where county name is.\n",
    "It returns empty list wherever string does not match given pattern\n",
    "\"\"\"\n",
    "def find_data(s):\n",
    "    return re.findall('<td>[A-Z][A-Z][A-Z]',s)"
   ]
  },
  {
   "cell_type": "code",
   "execution_count": 25,
   "metadata": {},
   "outputs": [
    {
     "ename": "KeyboardInterrupt",
     "evalue": "",
     "output_type": "error",
     "traceback": [
      "\u001b[0;31m---------------------------------------------------------------------------\u001b[0m",
      "\u001b[0;31mKeyboardInterrupt\u001b[0m                         Traceback (most recent call last)",
      "\u001b[0;32m<ipython-input-25-241dc14f352f>\u001b[0m in \u001b[0;36m<module>\u001b[0;34m()\u001b[0m\n\u001b[1;32m      4\u001b[0m \"\"\"\n\u001b[1;32m      5\u001b[0m \u001b[0;34m\u001b[0m\u001b[0m\n\u001b[0;32m----> 6\u001b[0;31m \u001b[0;32mwhile\u001b[0m \u001b[0mline\u001b[0m \u001b[0;32mis\u001b[0m \u001b[0;32mnot\u001b[0m \u001b[0;34m''\u001b[0m\u001b[0;34m:\u001b[0m\u001b[0;34m\u001b[0m\u001b[0m\n\u001b[0m\u001b[1;32m      7\u001b[0m     \u001b[0;31m#function call to find line with county name\u001b[0m\u001b[0;34m\u001b[0m\u001b[0;34m\u001b[0m\u001b[0m\n\u001b[1;32m      8\u001b[0m     \u001b[0mreq_line\u001b[0m \u001b[0;34m=\u001b[0m \u001b[0mfind_data\u001b[0m\u001b[0;34m(\u001b[0m\u001b[0mline\u001b[0m\u001b[0;34m)\u001b[0m\u001b[0;34m\u001b[0m\u001b[0m\n",
      "\u001b[0;31mKeyboardInterrupt\u001b[0m: "
     ]
    }
   ],
   "source": [
    "\"\"\"\n",
    "This loops through entire file to find countyname along with republic and democratic voters\n",
    "It then strips them to obtain data in required format\n",
    "\"\"\"\n",
    "\n",
    "while line is not '':\n",
    "    #function call to find line with county name\n",
    "    req_line = find_data(line)\n",
    "    #condition to go to line with county name\n",
    "    if req_line != []:\n",
    "       #strips string to obtain the name\n",
    "        countyname = line.lstrip('<td>').rstrip().rstrip('</td>')\n",
    "       #read next line to obtain republic voters \n",
    "        republicvoters = fp.readline().lstrip('<td>').rstrip().rstrip('</td>')\n",
    "       #remove commas to convert string to number \n",
    "        republicvoters =  int(republicvoters.replace(',',''))\n",
    "        democratvoters= fp.readline().lstrip('<td>').rstrip().rstrip('</td>')\n",
    "        democratvoters =  int(democratvoters.replace(',',''))\n",
    "       #create a list out of the obtained values and append the entire data together \n",
    "        data = (countyname, republicvoters, democratvoters)\n",
    "        final_data.append(data)\n",
    "    #read next line\n",
    "    line = fp.readline()"
   ]
  },
  {
   "cell_type": "code",
   "execution_count": null,
   "metadata": {},
   "outputs": [],
   "source": [
    "#This sorts the final data on the basis of democratic voters\n",
    "sorted_data = sorted(final_data,key = lambda x: x[2])    \n",
    "\n",
    "#This is used to print sorted data in required format\n",
    "for data in sorted_data:\n",
    "    print data[0], data[1], data[2]\n",
    "\n",
    "fp.close()"
   ]
  },
  {
   "cell_type": "markdown",
   "metadata": {},
   "source": [
    "## Q3: The Google of Quotes"
   ]
  },
  {
   "cell_type": "markdown",
   "metadata": {},
   "source": [
    "(a)"
   ]
  },
  {
   "cell_type": "code",
   "execution_count": null,
   "metadata": {},
   "outputs": [],
   "source": [
    "Q = open(\"quotes.txt\",\"r\")\n",
    "\n",
    "lines = Q.readlines()\n",
    "\n",
    "\n",
    "def put_in_list(s):\n",
    "    i = 0\n",
    "    store_list = []\n",
    "    while i < len(s)-1:\n",
    "        line =str(s[i]+ \"-\" +s[i+1])\n",
    "        line = line.replace('\\r\\n','')\n",
    "        line=line.replace('\\n','')\n",
    "        store_list.append(line)\n",
    "        i += 2\n",
    "    return store_list\n",
    "\n",
    "print put_in_list(lines)\n",
    "\n",
    "Q.close()"
   ]
  }
 ],
 "metadata": {
  "kernelspec": {
   "display_name": "Python 2",
   "language": "python",
   "name": "python2"
  },
  "language_info": {
   "codemirror_mode": {
    "name": "ipython",
    "version": 2
   },
   "file_extension": ".py",
   "mimetype": "text/x-python",
   "name": "python",
   "nbconvert_exporter": "python",
   "pygments_lexer": "ipython2",
   "version": "2.7.15"
  }
 },
 "nbformat": 4,
 "nbformat_minor": 2
}
